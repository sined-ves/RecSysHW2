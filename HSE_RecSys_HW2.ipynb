{
 "cells": [
  {
   "cell_type": "markdown",
   "id": "93831896-683d-4946-8cae-7aff56608a65",
   "metadata": {},
   "source": [
    "## ДЗ №2. Матричные факторизации"
   ]
  },
  {
   "cell_type": "markdown",
   "id": "03b424ec-3791-4113-a672-25ef7cfa704d",
   "metadata": {},
   "source": [
    "#### В этой домашке вам предстоит реализовать некоторые базовые модели матричной факторизации\n",
    "\n",
    "#### Дата выдачи: 17.02.25\n",
    "\n",
    "#### Мягкий дедлайн: 02.03.25 23:59 MSK\n",
    "\n",
    "#### Жесткий дедлайн: 09.03.25 23:59 MSK"
   ]
  },
  {
   "cell_type": "markdown",
   "id": "d8f4b315-75b8-4225-953c-5510c584ff2b",
   "metadata": {},
   "source": [
    "В этом задании мы будем работать с классическим для рекоендательных систем датасетом [MovieLens 1M](https://grouplens.org/datasets/movielens/1m/). Датасет содержит рейтинги оценки для 4000 фильмов от 6000 пользователей. Более подробное описание можете найти на странице с датасетом и в README файле"
   ]
  },
  {
   "cell_type": "code",
   "execution_count": null,
   "id": "f5a85f84-4854-4249-963d-143d08bb7e36",
   "metadata": {},
   "outputs": [],
   "source": [
    "!wget https://files.grouplens.org/datasets/movielens/ml-1m.zip\n",
    "!unzip ml-1m.zip\n",
    "!cat ml-1m/README"
   ]
  },
  {
   "cell_type": "code",
   "execution_count": 2,
   "id": "669137ca-f0f9-48d4-ae04-e42a4b0f8d14",
   "metadata": {},
   "outputs": [],
   "source": [
    "import pandas as pd\n",
    "import numpy as np\n",
    "from typing import Union"
   ]
  },
  {
   "cell_type": "code",
   "execution_count": 3,
   "id": "ed65b0ae-ce2d-437a-9739-e7981011089f",
   "metadata": {},
   "outputs": [
    {
     "data": {
      "text/html": [
       "<div>\n",
       "<style scoped>\n",
       "    .dataframe tbody tr th:only-of-type {\n",
       "        vertical-align: middle;\n",
       "    }\n",
       "\n",
       "    .dataframe tbody tr th {\n",
       "        vertical-align: top;\n",
       "    }\n",
       "\n",
       "    .dataframe thead th {\n",
       "        text-align: right;\n",
       "    }\n",
       "</style>\n",
       "<table border=\"1\" class=\"dataframe\">\n",
       "  <thead>\n",
       "    <tr style=\"text-align: right;\">\n",
       "      <th></th>\n",
       "      <th>user_id</th>\n",
       "      <th>item_id</th>\n",
       "      <th>rating</th>\n",
       "      <th>datetime</th>\n",
       "    </tr>\n",
       "  </thead>\n",
       "  <tbody>\n",
       "    <tr>\n",
       "      <th>0</th>\n",
       "      <td>1</td>\n",
       "      <td>1193</td>\n",
       "      <td>5</td>\n",
       "      <td>2000-12-31 22:12:40</td>\n",
       "    </tr>\n",
       "    <tr>\n",
       "      <th>1</th>\n",
       "      <td>1</td>\n",
       "      <td>661</td>\n",
       "      <td>3</td>\n",
       "      <td>2000-12-31 22:35:09</td>\n",
       "    </tr>\n",
       "    <tr>\n",
       "      <th>2</th>\n",
       "      <td>1</td>\n",
       "      <td>914</td>\n",
       "      <td>3</td>\n",
       "      <td>2000-12-31 22:32:48</td>\n",
       "    </tr>\n",
       "    <tr>\n",
       "      <th>3</th>\n",
       "      <td>1</td>\n",
       "      <td>3408</td>\n",
       "      <td>4</td>\n",
       "      <td>2000-12-31 22:04:35</td>\n",
       "    </tr>\n",
       "    <tr>\n",
       "      <th>4</th>\n",
       "      <td>1</td>\n",
       "      <td>2355</td>\n",
       "      <td>5</td>\n",
       "      <td>2001-01-06 23:38:11</td>\n",
       "    </tr>\n",
       "  </tbody>\n",
       "</table>\n",
       "</div>"
      ],
      "text/plain": [
       "   user_id  item_id  rating            datetime\n",
       "0        1     1193       5 2000-12-31 22:12:40\n",
       "1        1      661       3 2000-12-31 22:35:09\n",
       "2        1      914       3 2000-12-31 22:32:48\n",
       "3        1     3408       4 2000-12-31 22:04:35\n",
       "4        1     2355       5 2001-01-06 23:38:11"
      ]
     },
     "execution_count": 3,
     "metadata": {},
     "output_type": "execute_result"
    }
   ],
   "source": [
    "df = pd.read_csv(\"ml-1m/ratings.dat\", sep='::', names=['user_id', 'item_id', 'rating', 'timestamp'], engine='python')\n",
    "df['datetime'] = pd.to_datetime(df['timestamp'], unit='s')\n",
    "df.drop('timestamp', axis=1, inplace=True)\n",
    "df.head()"
   ]
  },
  {
   "cell_type": "code",
   "execution_count": 4,
   "id": "4988d476-542e-4a32-9c45-7a16bc2a5db5",
   "metadata": {},
   "outputs": [],
   "source": [
    "value_counts = df['item_id'].value_counts()\n",
    "filtered_values = value_counts[value_counts > 20].index\n",
    "df = df[df['item_id'].isin(filtered_values)].copy()"
   ]
  },
  {
   "cell_type": "code",
   "execution_count": 5,
   "id": "1e05bd3b-ab2f-4c02-9a97-a4153e9550bc",
   "metadata": {},
   "outputs": [
    {
     "data": {
      "text/plain": [
       "((787420, 4), (207432, 4))"
      ]
     },
     "execution_count": 5,
     "metadata": {},
     "output_type": "execute_result"
    }
   ],
   "source": [
    "train_end = '2000-12-01'\n",
    "df_train = df[df['datetime'] < train_end].copy()\n",
    "df_test = df[df['datetime'] >= train_end].copy()\n",
    "df_train.shape, df_test.shape"
   ]
  },
  {
   "cell_type": "code",
   "execution_count": 6,
   "id": "414b8ed7-20d6-4778-9d60-f9c8ccbfa7e3",
   "metadata": {},
   "outputs": [
    {
     "data": {
      "text/plain": [
       "(106471, 4)"
      ]
     },
     "execution_count": 6,
     "metadata": {},
     "output_type": "execute_result"
    }
   ],
   "source": [
    "train_users = df_train['user_id'].unique()\n",
    "train_items = df_train['item_id'].unique()\n",
    "\n",
    "df_test = df_test[df_test['user_id'].isin(train_users)]\n",
    "df_test = df_test[df_test['item_id'].isin(train_items)]\n",
    "df_test.shape"
   ]
  },
  {
   "cell_type": "code",
   "execution_count": 7,
   "id": "19f53d61-990c-4626-a470-7eefd06d2ec7",
   "metadata": {},
   "outputs": [],
   "source": [
    "from sklearn.preprocessing import LabelEncoder\n",
    "\n",
    "user_le = LabelEncoder()\n",
    "item_le = LabelEncoder()\n",
    "\n",
    "df_train['user_id'] = user_le.fit_transform(df_train['user_id'])\n",
    "df_train['item_id'] = item_le.fit_transform(df_train['item_id'])\n",
    "\n",
    "df_test['user_id'] = user_le.transform(df_test['user_id'])\n",
    "df_test['item_id'] = item_le.transform(df_test['item_id'])"
   ]
  },
  {
   "cell_type": "code",
   "execution_count": 8,
   "id": "f4ef3e2f-792d-4511-b4d0-74495d9cb30b",
   "metadata": {},
   "outputs": [
    {
     "data": {
      "text/plain": [
       "(3010, np.int64(3009))"
      ]
     },
     "execution_count": 8,
     "metadata": {},
     "output_type": "execute_result"
    }
   ],
   "source": [
    "df_train['user_id'].nunique(), df_train['user_id'].max()\n",
    "df_train['item_id'].nunique(), df_train['item_id'].max()"
   ]
  },
  {
   "cell_type": "markdown",
   "id": "3d356df8-9157-4752-b30d-dc80aba5e53c",
   "metadata": {},
   "source": [
    "##### Задание 1. Напишем функцию, которая превратит датафрейм в матрицу интеракций. В функции df_to_matrix реализуйте функцию, которая принимает датафрейм и возвращает np.array матрицу интеракций. В функции df_to_coo реализуйте функцию, которая принимает датафрейм и возвращает разреженную матрицу интеракций в coo_array формате"
   ]
  },
  {
   "cell_type": "code",
   "execution_count": 9,
   "id": "d38a7bb7-7f2d-4957-8dac-6397af9b1645",
   "metadata": {},
   "outputs": [],
   "source": [
    "def df_to_matrix(df: pd.DataFrame) -> np.ndarray:\n",
    "    matrix = np.zeros((df.user_id.nunique(), df.item_id.nunique()))\n",
    "    for _, row in df.iterrows():\n",
    "        matrix[row.user_id, row.item_id] = row.rating\n",
    "    return matrix #shape ~ [n_users, n_items]"
   ]
  },
  {
   "cell_type": "code",
   "execution_count": 10,
   "id": "55362cbb-5e2d-455b-afd1-8507f1dd51ba",
   "metadata": {},
   "outputs": [],
   "source": [
    "interactions = df_to_matrix(df_train)"
   ]
  },
  {
   "cell_type": "code",
   "execution_count": 11,
   "id": "794b646d-a560-42dd-a466-87cad2589271",
   "metadata": {},
   "outputs": [],
   "source": [
    "from scipy.sparse import coo_array\n",
    "\n",
    "def df_to_coo(df: pd.DataFrame, interactions_col='rating') -> coo_array:\n",
    "    coo = coo_array((df[interactions_col], (df.user_id, df.item_id)), \n",
    "                       shape=(df.user_id.nunique(), df.item_id.nunique()))\n",
    "    return coo # coo_array"
   ]
  },
  {
   "cell_type": "code",
   "execution_count": 12,
   "id": "30f9c218-0419-41b2-a112-c2214fad1d99",
   "metadata": {},
   "outputs": [],
   "source": [
    "coo_interactions = df_to_coo(df_train)"
   ]
  },
  {
   "cell_type": "code",
   "execution_count": 13,
   "id": "96b57a7a-0551-4f75-8047-fb9904ac93df",
   "metadata": {},
   "outputs": [],
   "source": [
    "assert (interactions != 0).sum() == df_train.shape[0]\n",
    "assert interactions[0, 2994] == 3\n",
    "assert interactions[2369, 1203] == 5\n",
    "assert interactions[1557, 459] == 3\n",
    "assert np.allclose(coo_interactions.toarray(), interactions)"
   ]
  },
  {
   "cell_type": "markdown",
   "id": "93b3862a-e62a-4ebe-a70c-29102e9f99fd",
   "metadata": {},
   "source": [
    "##### Задание 2.1. Рассмотрим [SVD](https://en.wikipedia.org/wiki/Singular_value_decomposition). Возьмите готовую реализуцию алгоритма из numpy.linalg или из scipy.linalg и примените алгоритм к матрицам интеракций, полученным в первом задании. Для работы со sparse матрицей обычная реализация svd не подойдет и нужно будет воспользоваться scipy.sparse.linalg.svds. Вам нужно разложить матрицу интеракций на 3 матрицы U, S, V, а затем перемножить их и восстановить изначальную матрицу. При полном разложении исходная матрица должна восстанавливаться максимально хорошо"
   ]
  },
  {
   "cell_type": "code",
   "execution_count": 14,
   "id": "eead134a-9aac-4027-b0b8-592de614c3d0",
   "metadata": {},
   "outputs": [],
   "source": [
    "from scipy.sparse.linalg import svds\n",
    "\n",
    "\n",
    "def make_svd(interactions: Union[np.ndarray, coo_array], n_singular_values: int = -1):\n",
    "    # функция должна работать и для полной матрицы и для sparse матрицы(вам поможет isinstance).\n",
    "    # если n_singular_values = -1, то берем все сингулярные числа для полной матрицы\n",
    "    # и все кроме одного сингулярного числа для coo-матрицы(иначе scipy.sparse.linalg.svds не будет работать)\n",
    "\n",
    "    # np.ndarray matrix\n",
    "    if isinstance(interactions, np.ndarray):\n",
    "        U, s, V = np.linalg.svd(interactions)\n",
    "        S = np.zeros((U.shape[0], V.shape[1]))\n",
    "        S[:len(s), :len(s)] = np.diag(s)\n",
    "\n",
    "        if n_singular_values == -1:\n",
    "            return U, S, V\n",
    "        return U[:, :n_singular_values], S[:n_singular_values, :n_singular_values], V[:n_singular_values, :]\n",
    "\n",
    "    # coo_array matrix\n",
    "    if isinstance(interactions, coo_array):\n",
    "        if n_singular_values == -1:\n",
    "            n_singular_values = min(interactions.shape) - 1\n",
    "\n",
    "        U, s, V = svds(interactions, k=n_singular_values)\n",
    "        S = np.zeros((U.shape[0], V.shape[1]))\n",
    "        S[:len(s), :len(s)] = np.diag(s)\n",
    "        return U, S[:n_singular_values, :n_singular_values], V\n",
    "\n",
    "    raise ValueError(\"Input matrix must be a numpy.ndarray or a scipy.sparse.coo_matrix\")\n",
    " "
   ]
  },
  {
   "cell_type": "code",
   "execution_count": 15,
   "id": "5c5fecd4-4739-4f6b-9c9c-44bde8b66a34",
   "metadata": {},
   "outputs": [],
   "source": [
    "U, S, V = make_svd(interactions)\n",
    "assert np.allclose(U @ S @ V, interactions)"
   ]
  },
  {
   "cell_type": "code",
   "execution_count": 16,
   "id": "c5a5f59e-3832-4a7d-95b4-856531582bbd",
   "metadata": {},
   "outputs": [],
   "source": [
    "U1, S1, V1 = make_svd(interactions, 10)\n",
    "U, S, V = make_svd(coo_interactions, 10)\n",
    "assert np.allclose(U1 @ S1 @ V1, U @ S @ V)"
   ]
  },
  {
   "cell_type": "markdown",
   "id": "9443daa6-e9f1-414a-8107-5a3016452929",
   "metadata": {},
   "source": [
    "##### Задание 2.2. Теперь попробуем сделать рекомендации с помощью SVD. Мы научились восстанавливать исходную матрицу с помощью разложения, теперь же мы хотим порекомендовать пользователю айтемы, которые будут для него максимально релевантны(в восстановленной матрице у них будет самый высокий скор). Для каждого пользователя нужно будет найти индексы айтемов, которые имеют максимальный скор. При этом стоит обратить внимание, что мы не хотим рекомендовать пользователю айтемы, с которыми он уже взаимодействовал"
   ]
  },
  {
   "cell_type": "code",
   "execution_count": 17,
   "id": "787da18f-48d0-4dfa-b18f-b7e97cc98a4f",
   "metadata": {},
   "outputs": [],
   "source": [
    "def make_svd_recommendations(interactions: Union[np.ndarray, coo_array], n_singular_values: int = -1, top_k: int = 100):\n",
    "    # Возвращает матрицу вида n_users, top_k, то есть для каждого пользователя возвращаем индексы \n",
    "    # top_k самых релевантный айтемов среди тех с которыми он еще не взаимодействовал\n",
    "    interactions = interactions.toarray() if isinstance(interactions, coo_array) else interactions\n",
    "    n_users = interactions.shape[0]\n",
    "\n",
    "    U, S, V = make_svd(interactions=interactions, n_singular_values=n_singular_values)\n",
    "    predicted = U @ S @ V\n",
    "    recommendations = []\n",
    "\n",
    "    for i in range(n_users):\n",
    "        df_user_interactions = pd.DataFrame(data=(zip(interactions[i, :], predicted[i, :])), columns=['init', 'preds'])\n",
    "        df_user_interactions['preds'] = df_user_interactions['preds'].astype(np.float64)\n",
    "        df_user_interactions = df_user_interactions[df_user_interactions['init'] == 0].sort_values(by='preds', ascending=False).head(top_k)\n",
    "        recommendations.append(df_user_interactions.index.to_numpy())\n",
    "    \n",
    "    return np.array(recommendations) # shape ~ [n_users, top_k]"
   ]
  },
  {
   "cell_type": "code",
   "execution_count": 18,
   "id": "ec72f3dd-c8f2-4434-b84e-ef016c4773a1",
   "metadata": {},
   "outputs": [],
   "source": [
    "recs = make_svd_recommendations(interactions, -1, 100)\n",
    "assert recs.shape == (interactions.shape[0], 100)"
   ]
  },
  {
   "cell_type": "markdown",
   "id": "f5d0b788-855a-4fd9-8cbb-38c0dd289ef5",
   "metadata": {},
   "source": [
    "##### Задание 2.3. Теперь давайте посмотрим как будет зависеть качетво рекомендаций, от количества сингулярных чисел, которые мы возьмем в SVD разложении. Переберите n_singular_values из списка [1, 10, 50, 200, 1000] и посмотрите как будет изменяться метрика NDCG на тестовом датасете для таких рекомендаций и как будет меняться время вычисления. Для каждого графики зависимости метрики NDCG от n_singular_values и времени работы алгоритма от n_singular_values(Время работы будет меняться только для sparse-матрицы, стоит запускать алгоритм именно для нее)"
   ]
  },
  {
   "cell_type": "code",
   "execution_count": 19,
   "id": "987c584c",
   "metadata": {},
   "outputs": [],
   "source": [
    "def dcg(scores):\n",
    "    return np.sum(\n",
    "        np.divide(np.power(2, scores) - 1, np.log2(np.arange(scores.shape[0], dtype=np.float64) + 2)), dtype=np.float64\n",
    "    )\n",
    "\n",
    "def ndcg_metric(gt_items, predicted):\n",
    "    at = len(predicted)\n",
    "    relevance = np.array([1 if x in predicted else 0 for x in gt_items])\n",
    "    # DCG uses the relevance of the recommended items\n",
    "    rank_dcg = dcg(relevance)\n",
    "\n",
    "    if rank_dcg == 0.0:\n",
    "        return 0.0\n",
    "\n",
    "    # IDCG has all relevances to 1 (or the values provided), up to the number of items in the test set that can fit in the list length\n",
    "    ideal_dcg = dcg(np.sort(relevance)[::-1][:at])\n",
    "\n",
    "    if ideal_dcg == 0.0:\n",
    "        return 0.0\n",
    "\n",
    "    ndcg_ = rank_dcg / ideal_dcg\n",
    "\n",
    "    return ndcg_\n",
    "\n",
    "def evaluate_recommender(df, model_preds='predicted_interactions', gt_col=\"test_interactions\"):\n",
    "    ndcg_values = []\n",
    "\n",
    "    for _, row in df.iterrows():\n",
    "        gt_items = row[gt_col]\n",
    "        ndcg_values.append(ndcg_metric(gt_items, row[model_preds]))\n",
    "\n",
    "    return np.mean(ndcg_values)\n",
    "\n"
   ]
  },
  {
   "cell_type": "code",
   "execution_count": 20,
   "id": "06f931fd-0eb0-4965-9e02-e005ed545c71",
   "metadata": {},
   "outputs": [],
   "source": [
    "import time\n",
    "from matplotlib import pyplot as plt\n",
    "\n",
    "def plot_graphs(train_interactions: Union[np.ndarray, coo_array], df_test_interactions, top_k: int = 100):\n",
    "    \n",
    "    ndcg_metric_values = []\n",
    "    n_singular_values = []\n",
    "    processing_time_values = []\n",
    "    \n",
    "\n",
    "    for n_singular_value in [1, 10, 50, 200, 1000]:\n",
    "        time_start = time.time()\n",
    "        predicted_recs = make_svd_recommendations(train_interactions, n_singular_value, top_k)\n",
    "        time_stop = time.time() - time_start\n",
    "        df_svd_recs = pd.DataFrame({\n",
    "            'user_id': range(len(predicted_recs)),\n",
    "            'predicted_interactions': predicted_recs.tolist()\n",
    "        })\n",
    "        df_evaluate_svd_recs = pd.merge(df_svd_recs, df_test_interactions, on='user_id')\n",
    "        ndcg_metric = evaluate_recommender(df_evaluate_svd_recs)\n",
    "        print(f'n_singular_value = {n_singular_value}, ndcg = {ndcg_metric} -- done')\n",
    "        ndcg_metric_values.append(ndcg_metric)\n",
    "        n_singular_values.append(n_singular_value)\n",
    "        processing_time_values.append(time_stop)\n",
    "\n",
    "    # plot\n",
    "    plt.figure(figsize=(15, 5))\n",
    "\n",
    "    plt.subplot(1, 2, 1)\n",
    "    plt.plot(n_singular_values, ndcg_metric_values, color='skyblue', linestyle='-', linewidth=2)\n",
    "    plt.title('NDCG@k', fontsize=14)\n",
    "    plt.xlabel('Singular Value', fontsize=12)\n",
    "    plt.ylabel('NDCG@k Score', fontsize=12)\n",
    "    plt.grid(True, which='both', linestyle='--', linewidth=0.5)\n",
    "\n",
    "    plt.subplot(1, 2, 2)\n",
    "    plt.plot(n_singular_values, processing_time_values, color='salmon', linestyle='-', linewidth=2)\n",
    "    plt.title('Time', fontsize=14)\n",
    "    plt.xlabel('Singular Value', fontsize=12)\n",
    "    plt.ylabel('Time', fontsize=12)\n",
    "    plt.grid(True, which='both', linestyle='--', linewidth=0.5)\n",
    "\n",
    "    plt.tight_layout()\n",
    "    plt.show()\n"
   ]
  },
  {
   "cell_type": "code",
   "execution_count": 21,
   "id": "dc4a6540",
   "metadata": {},
   "outputs": [
    {
     "name": "stdout",
     "output_type": "stream",
     "text": [
      "n_singular_value = 1, ndcg = 0.5396067152048136 -- done\n",
      "n_singular_value = 10, ndcg = 0.5993511113914561 -- done\n",
      "n_singular_value = 50, ndcg = 0.5800917068499524 -- done\n",
      "n_singular_value = 200, ndcg = 0.5142513288927512 -- done\n",
      "n_singular_value = 1000, ndcg = 0.3006861398194782 -- done\n"
     ]
    },
    {
     "data": {
      "image/png": "[encoded data removed]",
      "text/plain": [
       "<Figure size 1500x500 with 2 Axes>"
      ]
     },
     "metadata": {},
     "output_type": "display_data"
    }
   ],
   "source": [
    "df_test_interactions = df_test.groupby('user_id').apply(lambda x: list(x['item_id']), include_groups=False).reset_index(name='test_interactions')\n",
    "plot_graphs(coo_interactions, df_test_interactions)"
   ]
  },
  {
   "cell_type": "markdown",
   "id": "a8612d96-c694-42d6-9525-58808f642577",
   "metadata": {},
   "source": [
    "##### Задание 3.1. Перейдем к [ALS](http://yifanhu.net/PUB/cf.pdf). Возьмем реализацию iALS из библиотеки [implicit](https://benfred.github.io/implicit/api/models/cpu/als.html). Обучите ALS на нашем датасете, сделайте top_k рекомендации для юзеров из тестового датасета, и сравните метрики ALS с метриками, которые получились в SVD. Попробуйте перебрать гиперпараметры и найдите оптимальное число факторов, коэффициент alpha и коэффициент регуляризации."
   ]
  },
  {
   "cell_type": "code",
   "execution_count": 22,
   "id": "b5fb16e9-49d1-4d7e-a384-ccbdad4f1cdf",
   "metadata": {},
   "outputs": [
    {
     "name": "stderr",
     "output_type": "stream",
     "text": [
      "/Users/denis.bobylev/Documents/hse/RecSys/HW2/.venv/lib/python3.13/site-packages/tqdm/auto.py:21: TqdmWarning: IProgress not found. Please update jupyter and ipywidgets. See https://ipywidgets.readthedocs.io/en/stable/user_install.html\n",
      "  from .autonotebook import tqdm as notebook_tqdm\n"
     ]
    }
   ],
   "source": [
    "from implicit.als import AlternatingLeastSquares\n",
    "from scipy.sparse import csr_matrix\n",
    "\n",
    "def make_als_recommendations(\n",
    "    interactions: Union[np.ndarray, coo_array], \n",
    "    top_k: int = 100, \n",
    "    n_factors: int = 100,\n",
    "    alpha: float = 1.0,\n",
    "    regularization: float = 0.01,\n",
    "):\n",
    "    if isinstance(interactions, np.ndarray):\n",
    "        interactions = csr_matrix(interactions)\n",
    "    if isinstance(interactions, coo_array):\n",
    "        interactions = csr_matrix(interactions)\n",
    "\n",
    "    model = AlternatingLeastSquares(\n",
    "        factors=n_factors, \n",
    "        regularization=regularization, \n",
    "        alpha=alpha\n",
    "    )\n",
    "    model.fit(interactions)\n",
    "    \n",
    "    n_users = interactions.shape[0]\n",
    "    recs = model.recommend(list(range(n_users)), interactions, N=top_k, filter_already_liked_items=True)[0]\n",
    "    return recs #shape ~ [n_users, top_k]"
   ]
  },
  {
   "cell_type": "code",
   "execution_count": 23,
   "id": "b5573d01-8512-450f-9260-03928ee9b367",
   "metadata": {},
   "outputs": [
    {
     "name": "stderr",
     "output_type": "stream",
     "text": [
      "100%|██████████| 15/15 [00:03<00:00,  4.53it/s]\n"
     ]
    }
   ],
   "source": [
    "recs = make_als_recommendations(interactions)\n",
    "assert recs.shape == (interactions.shape[0], 100)"
   ]
  },
  {
   "cell_type": "code",
   "execution_count": 24,
   "id": "148ba8e9",
   "metadata": {},
   "outputs": [
    {
     "name": "stdout",
     "output_type": "stream",
     "text": [
      "ndcg_metric_als =  0.5578474110202084\n"
     ]
    }
   ],
   "source": [
    "df_als_recs = pd.DataFrame({\n",
    "    'user_id': range(len(recs)),\n",
    "    'predicted_interactions': recs.tolist()\n",
    "})\n",
    "df_evaluate_als_recs = pd.merge(df_als_recs, df_test_interactions, on='user_id')\n",
    "ndcg_metric_als = evaluate_recommender(df_evaluate_als_recs)\n",
    "print('ndcg_metric_als = ', ndcg_metric_als)"
   ]
  },
  {
   "cell_type": "code",
   "execution_count": 25,
   "id": "f14973ea",
   "metadata": {},
   "outputs": [
    {
     "name": "stderr",
     "output_type": "stream",
     "text": [
      "100%|██████████| 15/15 [00:01<00:00, 11.02it/s]\n",
      "100%|██████████| 15/15 [00:01<00:00, 12.78it/s]\n",
      "100%|██████████| 15/15 [00:01<00:00, 13.22it/s]\n",
      "100%|██████████| 15/15 [00:01<00:00, 14.10it/s]\n",
      "100%|██████████| 15/15 [00:00<00:00, 15.05it/s]\n",
      "100%|██████████| 15/15 [00:00<00:00, 15.07it/s]\n",
      "100%|██████████| 15/15 [00:01<00:00, 14.80it/s]\n",
      "100%|██████████| 15/15 [00:01<00:00, 14.63it/s]\n",
      "100%|██████████| 15/15 [00:00<00:00, 16.14it/s]\n",
      "100%|██████████| 15/15 [00:00<00:00, 16.23it/s]\n",
      "100%|██████████| 15/15 [00:00<00:00, 16.21it/s]\n",
      "100%|██████████| 15/15 [00:00<00:00, 16.20it/s]\n",
      "100%|██████████| 15/15 [00:01<00:00, 12.24it/s]\n",
      "100%|██████████| 15/15 [00:01<00:00, 12.31it/s]\n",
      "100%|██████████| 15/15 [00:01<00:00, 12.41it/s]\n",
      "100%|██████████| 15/15 [00:01<00:00, 12.14it/s]\n",
      "100%|██████████| 15/15 [00:01<00:00, 12.35it/s]\n",
      "100%|██████████| 15/15 [00:01<00:00, 12.78it/s]\n",
      "100%|██████████| 15/15 [00:01<00:00, 12.25it/s]\n",
      "100%|██████████| 15/15 [00:01<00:00, 12.30it/s]\n",
      "100%|██████████| 15/15 [00:01<00:00, 13.52it/s]\n",
      "100%|██████████| 15/15 [00:01<00:00, 13.66it/s]\n",
      "100%|██████████| 15/15 [00:01<00:00, 13.59it/s]\n",
      "100%|██████████| 15/15 [00:01<00:00, 13.41it/s]\n",
      "100%|██████████| 15/15 [00:01<00:00, 11.08it/s]\n",
      "100%|██████████| 15/15 [00:01<00:00, 11.48it/s]\n",
      "100%|██████████| 15/15 [00:01<00:00, 11.39it/s]\n",
      "100%|██████████| 15/15 [00:01<00:00, 11.60it/s]\n",
      "100%|██████████| 15/15 [00:01<00:00, 12.18it/s]\n",
      "100%|██████████| 15/15 [00:01<00:00, 11.54it/s]\n",
      "100%|██████████| 15/15 [00:01<00:00, 12.11it/s]\n",
      "100%|██████████| 15/15 [00:01<00:00, 12.08it/s]\n",
      "100%|██████████| 15/15 [00:01<00:00, 12.66it/s]\n",
      "100%|██████████| 15/15 [00:01<00:00, 12.86it/s]\n",
      "100%|██████████| 15/15 [00:01<00:00, 12.90it/s]\n",
      "100%|██████████| 15/15 [00:01<00:00, 12.92it/s]\n"
     ]
    }
   ],
   "source": [
    "def evaluate_als(interactions, n_factors, alpha, regularization):\n",
    "    recs = make_als_recommendations(interactions=interactions, n_factors=n_factors, alpha=alpha, regularization=regularization, top_k=100)\n",
    "    df_als_recs = pd.DataFrame({\n",
    "        'user_id': range(len(recs)),\n",
    "        'predicted_interactions': recs.tolist()\n",
    "    })\n",
    "    df_evaluate_als_recs = pd.merge(df_als_recs, df_test_interactions, on='user_id')\n",
    "    ndcg_metric_als = evaluate_recommender(df_evaluate_als_recs)\n",
    "\n",
    "    return {'params': f'n_factors={n_factors}|alpha={alpha}|regularization={regularization}', 'ndcg_metric_als': ndcg_metric_als}\n",
    "    \n",
    "\n",
    "n_factors_range = [5, 10, 15]\n",
    "alpha_range = [0.5, 1, 5]\n",
    "regularization_range = [0, 0.01, 0.1, 1]\n",
    "\n",
    "evaluation_metrics = []\n",
    "\n",
    "for f in n_factors_range:\n",
    "    for a in alpha_range:\n",
    "        for r in regularization_range:\n",
    "            evaluation_metrics.append(evaluate_als(interactions, f, a, r))\n"
   ]
  },
  {
   "cell_type": "code",
   "execution_count": 26,
   "id": "80f62103",
   "metadata": {},
   "outputs": [
    {
     "data": {
      "text/plain": [
       "{'params': 'n_factors=10|alpha=0.5|regularization=0.01',\n",
       " 'ndcg_metric_als': np.float64(0.6009317885491754)}"
      ]
     },
     "execution_count": 26,
     "metadata": {},
     "output_type": "execute_result"
    }
   ],
   "source": [
    "best_model_params = sorted(evaluation_metrics, key=lambda x: x[\"ndcg_metric_als\"], reverse=True)[0]\n",
    "best_model_params"
   ]
  },
  {
   "cell_type": "markdown",
   "id": "10649c6b",
   "metadata": {},
   "source": [
    "Получилось качество лучше чем при SVD"
   ]
  },
  {
   "cell_type": "markdown",
   "id": "81f3b1cc-760b-4d6a-ab8a-aca57b7b6dfe",
   "metadata": {},
   "source": [
    "##### Задание 3.2. Сделайте объяснение рекомендаций для нескольких юзеров(als.explain). Воспользуйтесь файлом movies.dat чтобы перейти от индексов фильмов к их названием"
   ]
  },
  {
   "cell_type": "code",
   "execution_count": 27,
   "id": "fcc60cff",
   "metadata": {},
   "outputs": [
    {
     "name": "stderr",
     "output_type": "stream",
     "text": [
      "100%|██████████| 15/15 [00:03<00:00,  4.82it/s]\n"
     ]
    },
    {
     "data": {
      "text/html": [
       "<div>\n",
       "<style scoped>\n",
       "    .dataframe tbody tr th:only-of-type {\n",
       "        vertical-align: middle;\n",
       "    }\n",
       "\n",
       "    .dataframe tbody tr th {\n",
       "        vertical-align: top;\n",
       "    }\n",
       "\n",
       "    .dataframe thead th {\n",
       "        text-align: right;\n",
       "    }\n",
       "</style>\n",
       "<table border=\"1\" class=\"dataframe\">\n",
       "  <thead>\n",
       "    <tr style=\"text-align: right;\">\n",
       "      <th></th>\n",
       "      <th>user_id</th>\n",
       "      <th>predicted_interactions</th>\n",
       "    </tr>\n",
       "  </thead>\n",
       "  <tbody>\n",
       "    <tr>\n",
       "      <th>0</th>\n",
       "      <td>0</td>\n",
       "      <td>[670, 2132, 684]</td>\n",
       "    </tr>\n",
       "    <tr>\n",
       "      <th>1</th>\n",
       "      <td>1</td>\n",
       "      <td>[929, 944, 685]</td>\n",
       "    </tr>\n",
       "    <tr>\n",
       "      <th>2</th>\n",
       "      <td>2</td>\n",
       "      <td>[404, 968, 961]</td>\n",
       "    </tr>\n",
       "    <tr>\n",
       "      <th>3</th>\n",
       "      <td>3</td>\n",
       "      <td>[215, 432, 2308]</td>\n",
       "    </tr>\n",
       "    <tr>\n",
       "      <th>4</th>\n",
       "      <td>4</td>\n",
       "      <td>[2630, 878, 820]</td>\n",
       "    </tr>\n",
       "    <tr>\n",
       "      <th>...</th>\n",
       "      <td>...</td>\n",
       "      <td>...</td>\n",
       "    </tr>\n",
       "    <tr>\n",
       "      <th>5360</th>\n",
       "      <td>5360</td>\n",
       "      <td>[298, 1215, 1190]</td>\n",
       "    </tr>\n",
       "    <tr>\n",
       "      <th>5361</th>\n",
       "      <td>5361</td>\n",
       "      <td>[1709, 924, 875]</td>\n",
       "    </tr>\n",
       "    <tr>\n",
       "      <th>5362</th>\n",
       "      <td>5362</td>\n",
       "      <td>[580, 971, 2588]</td>\n",
       "    </tr>\n",
       "    <tr>\n",
       "      <th>5363</th>\n",
       "      <td>5363</td>\n",
       "      <td>[672, 2326, 774]</td>\n",
       "    </tr>\n",
       "    <tr>\n",
       "      <th>5364</th>\n",
       "      <td>5364</td>\n",
       "      <td>[866, 1528, 1665]</td>\n",
       "    </tr>\n",
       "  </tbody>\n",
       "</table>\n",
       "<p>5365 rows × 2 columns</p>\n",
       "</div>"
      ],
      "text/plain": [
       "      user_id predicted_interactions\n",
       "0           0       [670, 2132, 684]\n",
       "1           1        [929, 944, 685]\n",
       "2           2        [404, 968, 961]\n",
       "3           3       [215, 432, 2308]\n",
       "4           4       [2630, 878, 820]\n",
       "...       ...                    ...\n",
       "5360     5360      [298, 1215, 1190]\n",
       "5361     5361       [1709, 924, 875]\n",
       "5362     5362       [580, 971, 2588]\n",
       "5363     5363       [672, 2326, 774]\n",
       "5364     5364      [866, 1528, 1665]\n",
       "\n",
       "[5365 rows x 2 columns]"
      ]
     },
     "execution_count": 27,
     "metadata": {},
     "output_type": "execute_result"
    }
   ],
   "source": [
    "als_model = AlternatingLeastSquares(\n",
    "        factors=100, \n",
    "        regularization=0.01, \n",
    "        alpha=1.0\n",
    "    )\n",
    "interactions_csr = csr_matrix(interactions)\n",
    "\n",
    "als_model.fit(interactions_csr)\n",
    "n_users = interactions.shape[0]\n",
    "als_recs = als_model.recommend(list(range(n_users)), interactions_csr, N=3, filter_already_liked_items=True)[0]\n",
    "df_als_recs = pd.DataFrame({\n",
    "    'user_id': range(len(als_recs)),\n",
    "    'predicted_interactions': als_recs.tolist()\n",
    "})\n",
    "df_als_recs"
   ]
  },
  {
   "cell_type": "code",
   "execution_count": 28,
   "id": "a7cd5dd0",
   "metadata": {},
   "outputs": [
    {
     "name": "stderr",
     "output_type": "stream",
     "text": [
      "/var/folders/_w/kwc87vq95knc__ftlw44x3kw0000gn/T/ipykernel_17912/1631822151.py:1: ParserWarning: Falling back to the 'python' engine because the 'c' engine does not support regex separators (separators > 1 char and different from '\\s+' are interpreted as regex); you can avoid this warning by specifying engine='python'.\n",
      "  df_movies = pd.read_csv('ml-1m/movies.dat', delimiter='::', encoding='ISO-8859-1', header=None)\n"
     ]
    },
    {
     "data": {
      "text/html": [
       "<div>\n",
       "<style scoped>\n",
       "    .dataframe tbody tr th:only-of-type {\n",
       "        vertical-align: middle;\n",
       "    }\n",
       "\n",
       "    .dataframe tbody tr th {\n",
       "        vertical-align: top;\n",
       "    }\n",
       "\n",
       "    .dataframe thead th {\n",
       "        text-align: right;\n",
       "    }\n",
       "</style>\n",
       "<table border=\"1\" class=\"dataframe\">\n",
       "  <thead>\n",
       "    <tr style=\"text-align: right;\">\n",
       "      <th></th>\n",
       "      <th>ID</th>\n",
       "      <th>Title</th>\n",
       "      <th>Genres</th>\n",
       "    </tr>\n",
       "  </thead>\n",
       "  <tbody>\n",
       "    <tr>\n",
       "      <th>0</th>\n",
       "      <td>1</td>\n",
       "      <td>Toy Story (1995)</td>\n",
       "      <td>Animation|Children's|Comedy</td>\n",
       "    </tr>\n",
       "    <tr>\n",
       "      <th>1</th>\n",
       "      <td>2</td>\n",
       "      <td>Jumanji (1995)</td>\n",
       "      <td>Adventure|Children's|Fantasy</td>\n",
       "    </tr>\n",
       "    <tr>\n",
       "      <th>2</th>\n",
       "      <td>3</td>\n",
       "      <td>Grumpier Old Men (1995)</td>\n",
       "      <td>Comedy|Romance</td>\n",
       "    </tr>\n",
       "    <tr>\n",
       "      <th>3</th>\n",
       "      <td>4</td>\n",
       "      <td>Waiting to Exhale (1995)</td>\n",
       "      <td>Comedy|Drama</td>\n",
       "    </tr>\n",
       "    <tr>\n",
       "      <th>4</th>\n",
       "      <td>5</td>\n",
       "      <td>Father of the Bride Part II (1995)</td>\n",
       "      <td>Comedy</td>\n",
       "    </tr>\n",
       "    <tr>\n",
       "      <th>...</th>\n",
       "      <td>...</td>\n",
       "      <td>...</td>\n",
       "      <td>...</td>\n",
       "    </tr>\n",
       "    <tr>\n",
       "      <th>3878</th>\n",
       "      <td>3948</td>\n",
       "      <td>Meet the Parents (2000)</td>\n",
       "      <td>Comedy</td>\n",
       "    </tr>\n",
       "    <tr>\n",
       "      <th>3879</th>\n",
       "      <td>3949</td>\n",
       "      <td>Requiem for a Dream (2000)</td>\n",
       "      <td>Drama</td>\n",
       "    </tr>\n",
       "    <tr>\n",
       "      <th>3880</th>\n",
       "      <td>3950</td>\n",
       "      <td>Tigerland (2000)</td>\n",
       "      <td>Drama</td>\n",
       "    </tr>\n",
       "    <tr>\n",
       "      <th>3881</th>\n",
       "      <td>3951</td>\n",
       "      <td>Two Family House (2000)</td>\n",
       "      <td>Drama</td>\n",
       "    </tr>\n",
       "    <tr>\n",
       "      <th>3882</th>\n",
       "      <td>3952</td>\n",
       "      <td>Contender, The (2000)</td>\n",
       "      <td>Drama|Thriller</td>\n",
       "    </tr>\n",
       "  </tbody>\n",
       "</table>\n",
       "<p>3883 rows × 3 columns</p>\n",
       "</div>"
      ],
      "text/plain": [
       "        ID                               Title                        Genres\n",
       "0        1                    Toy Story (1995)   Animation|Children's|Comedy\n",
       "1        2                      Jumanji (1995)  Adventure|Children's|Fantasy\n",
       "2        3             Grumpier Old Men (1995)                Comedy|Romance\n",
       "3        4            Waiting to Exhale (1995)                  Comedy|Drama\n",
       "4        5  Father of the Bride Part II (1995)                        Comedy\n",
       "...    ...                                 ...                           ...\n",
       "3878  3948             Meet the Parents (2000)                        Comedy\n",
       "3879  3949          Requiem for a Dream (2000)                         Drama\n",
       "3880  3950                    Tigerland (2000)                         Drama\n",
       "3881  3951             Two Family House (2000)                         Drama\n",
       "3882  3952               Contender, The (2000)                Drama|Thriller\n",
       "\n",
       "[3883 rows x 3 columns]"
      ]
     },
     "execution_count": 28,
     "metadata": {},
     "output_type": "execute_result"
    }
   ],
   "source": [
    "df_movies = pd.read_csv('ml-1m/movies.dat', delimiter='::', encoding='ISO-8859-1', header=None)\n",
    "df_movies.columns = ['ID', 'Title', 'Genres']\n",
    "df_movies"
   ]
  },
  {
   "cell_type": "code",
   "execution_count": 29,
   "id": "58330c4d",
   "metadata": {},
   "outputs": [],
   "source": [
    "def get_movie_by_id(id, df_movies=df_movies, item_le=item_le):\n",
    "    idx = item_le.inverse_transform([id])[0]\n",
    "    return df_movies[df_movies['ID'] == idx]['Title'].values[0]"
   ]
  },
  {
   "cell_type": "code",
   "execution_count": 30,
   "id": "ddd9a956-d2f5-4560-8d0c-c72164ebdfa8",
   "metadata": {},
   "outputs": [
    {
     "name": "stdout",
     "output_type": "stream",
     "text": [
      "User 0:\n",
      "Recommended item: North by Northwest (1959), Score: 0.81\n",
      "total_score  0.7996975548889873\n",
      "top_contributions  [(np.float64(0.14811963572375178), 'Rear Window (1954)'), (np.float64(0.11513571244170823), 'Casablanca (1942)'), (np.float64(0.1002264790363881), 'Citizen Kane (1941)'), (np.float64(0.09047319486159525), 'Airplane! (1980)'), (np.float64(0.08511000650094194), 'Psycho (1960)'), (np.float64(0.0657177697375364), 'Taxi Driver (1976)'), (np.float64(0.061061004104545444), 'Some Like It Hot (1959)'), (np.float64(0.05907673105789767), 'To Kill a Mockingbird (1962)'), (np.float64(0.052271539811576326), 'Wizard of Oz, The (1939)'), (np.float64(0.049917172700743105), 'Fargo (1996)')]\n",
      "Recommended item: Christmas Story, A (1983), Score: 0.81\n",
      "total_score  0.7936560700042969\n",
      "top_contributions  [(np.float64(0.09705554886078058), 'Airplane! (1980)'), (np.float64(0.08533869359181831), 'To Kill a Mockingbird (1962)'), (np.float64(0.07898111925651598), 'Dog Day Afternoon (1975)'), (np.float64(0.07822877381893321), 'Wrong Trousers, The (1993)'), (np.float64(0.06946089897780323), 'Grapes of Wrath, The (1940)'), (np.float64(0.06314084180021928), 'Taxi Driver (1976)'), (np.float64(0.049405345201757205), 'Wizard of Oz, The (1939)'), (np.float64(0.04909877610847882), 'Fargo (1996)'), (np.float64(0.046141247776162304), \"Schindler's List (1993)\"), (np.float64(0.04178682366954638), 'Best in Show (2000)')]\n",
      "Recommended item: Sunset Blvd. (a.k.a. Sunset Boulevard) (1950), Score: 0.79\n",
      "total_score  0.7733527977910984\n",
      "top_contributions  [(np.float64(0.13446778726651867), 'Double Indemnity (1944)'), (np.float64(0.0911343476615963), 'Chinatown (1974)'), (np.float64(0.07289954578753513), 'Strangers on a Train (1951)'), (np.float64(0.05829766102667952), 'Notorious (1946)'), (np.float64(0.0560210143752857), 'Third Man, The (1949)'), (np.float64(0.03765874941429128), 'Rear Window (1954)'), (np.float64(0.03190427485819064), 'All About Eve (1950)'), (np.float64(0.03173577839192114), 'Some Like It Hot (1959)'), (np.float64(0.027332572915809674), 'Almost Famous (2000)'), (np.float64(0.02217129755274185), 'Conversation, The (1974)')]\n",
      "\n",
      "User 1:\n",
      "Recommended item: Chinatown (1974), Score: 0.98\n",
      "total_score  0.9688131164761002\n",
      "top_contributions  [(np.float64(0.12444440339501625), 'L.A. Confidential (1997)'), (np.float64(0.11702576151999304), 'Maltese Falcon, The (1941)'), (np.float64(0.10607536031882217), 'Blood Simple (1984)'), (np.float64(0.10524755590020829), 'Blade Runner (1982)'), (np.float64(0.1043615458188124), 'Sunset Blvd. (a.k.a. Sunset Boulevard) (1950)'), (np.float64(0.07875188886901083), 'Rear Window (1954)'), (np.float64(0.06595616680930413), 'Vertigo (1958)'), (np.float64(0.06514023279054154), 'Third Man, The (1949)'), (np.float64(0.04563039278416752), 'Dr. Strangelove or: How I Learned to Stop Worrying and Love the Bomb (1963)'), (np.float64(0.04457228783364954), 'Sting, The (1973)')]\n",
      "Recommended item: Manchurian Candidate, The (1962), Score: 0.73\n",
      "total_score  0.7222658699204978\n",
      "top_contributions  [(np.float64(0.09009917535782297), 'Sunset Blvd. (a.k.a. Sunset Boulevard) (1950)'), (np.float64(0.08586429391043651), 'Third Man, The (1949)'), (np.float64(0.08389679805473466), 'L.A. Confidential (1997)'), (np.float64(0.07956668553658501), 'Blade Runner (1982)'), (np.float64(0.07799418935159269), 'Maltese Falcon, The (1941)'), (np.float64(0.07223193953615081), 'Blood Simple (1984)'), (np.float64(0.064456481241136), 'Dr. Strangelove or: How I Learned to Stop Worrying and Love the Bomb (1963)'), (np.float64(0.06274571245634486), 'Rear Window (1954)'), (np.float64(0.04617957128770317), 'Vertigo (1958)'), (np.float64(0.03028985911338115), 'Insider, The (1999)')]\n",
      "Recommended item: Citizen Kane (1941), Score: 0.69\n",
      "total_score  0.6851306120498669\n",
      "top_contributions  [(np.float64(0.2224701862916403), 'Casablanca (1942)'), (np.float64(0.09685857692738052), 'Graduate, The (1967)'), (np.float64(0.06305426630442282), 'Third Man, The (1949)'), (np.float64(0.054282727790937), 'Raging Bull (1980)'), (np.float64(0.04943887545080217), 'Rear Window (1954)'), (np.float64(0.045186681256228184), 'Shawshank Redemption, The (1994)'), (np.float64(0.04386604067912453), 'Dr. Strangelove or: How I Learned to Stop Worrying and Love the Bomb (1963)'), (np.float64(0.03359695032384703), 'Batman (1989)'), (np.float64(0.03306651531472188), 'Maltese Falcon, The (1941)'), (np.float64(0.03180150918350687), 'Sunset Blvd. (a.k.a. Sunset Boulevard) (1950)')]\n",
      "\n",
      "User 2:\n",
      "Recommended item: Jurassic Park (1993), Score: 0.90\n",
      "total_score  0.8830502323022197\n",
      "top_contributions  [(np.float64(0.15737359386920097), 'Terminator 2: Judgment Day (1991)'), (np.float64(0.15167653457441888), 'Men in Black (1997)'), (np.float64(0.12381407249312901), 'Braveheart (1995)'), (np.float64(0.06994501266620136), 'Dances with Wolves (1990)'), (np.float64(0.06992032046492407), 'Fugitive, The (1993)'), (np.float64(0.05758073383879086), 'Lost World: Jurassic Park, The (1997)'), (np.float64(0.04707611736510116), 'Stand by Me (1986)'), (np.float64(0.04254095431309834), 'Mission: Impossible (1996)'), (np.float64(0.03911766509058358), 'Raiders of the Lost Ark (1981)'), (np.float64(0.03727384183736239), 'Sound of Music, The (1965)')]\n",
      "Recommended item: Indiana Jones and the Last Crusade (1989), Score: 0.83\n",
      "total_score  0.8151098438138195\n",
      "top_contributions  [(np.float64(0.19419775159274344), 'Raiders of the Lost Ark (1981)'), (np.float64(0.12456506576933406), 'Die Hard (1988)'), (np.float64(0.06423434029656169), 'Dances with Wolves (1990)'), (np.float64(0.06385276650730157), 'Who Framed Roger Rabbit? (1988)'), (np.float64(0.0584188862417106), 'Terminator, The (1984)'), (np.float64(0.05455005326186037), 'Goldfinger (1964)'), (np.float64(0.04955142456819234), 'African Queen, The (1951)'), (np.float64(0.04523378355122242), 'Mission: Impossible (1996)'), (np.float64(0.04306018687772541), 'Rocky (1976)'), (np.float64(0.03922475835052104), 'Aliens (1986)')]\n",
      "Recommended item: Big Sleep, The (1946), Score: 0.73\n",
      "total_score  0.7204631140180926\n",
      "top_contributions  [(np.float64(0.17142156602158937), 'Maltese Falcon, The (1941)'), (np.float64(0.13918765153965593), 'Key Largo (1948)'), (np.float64(0.09161890172376186), 'Chinatown (1974)'), (np.float64(0.07287740607224194), 'Braveheart (1995)'), (np.float64(0.041606010530194776), 'Sound of Music, The (1965)'), (np.float64(0.03973188420274629), 'Who Framed Roger Rabbit? (1988)'), (np.float64(0.033776926734601795), 'From Russia with Love (1963)'), (np.float64(0.03319898289473378), 'African Queen, The (1951)'), (np.float64(0.0326935264620524), 'Stand by Me (1986)'), (np.float64(0.03090679487698736), 'Rudy (1993)')]\n",
      "\n"
     ]
    }
   ],
   "source": [
    "users = [0, 1, 2]\n",
    "\n",
    "for user in users:\n",
    "    recommended_items, scores = als_model.recommend(user, interactions_csr[user], N=3)\n",
    "    print(f\"User {user}:\")\n",
    "    for item, score in zip(recommended_items, scores):\n",
    "        print(f\"Recommended item: {get_movie_by_id(item)}, Score: {score:.2f}\")\n",
    "        total_score, top_contributions, _ = als_model.explain(user, interactions_csr, item)\n",
    "        contributions = [(x[1], get_movie_by_id(x[0])) for x in top_contributions]\n",
    "        print('total_score ', total_score)\n",
    "        print('top_contributions ', contributions)\n",
    "    print()"
   ]
  },
  {
   "cell_type": "markdown",
   "id": "d7d7ea0c-8288-45f5-83d4-9761a8952669",
   "metadata": {},
   "source": [
    "##### Задание 4. До этого мы работали с рейтингами, но как обсуждалось на лекции, implicit ALS отлично работает и с implicit фидбэком. Давайте попробуем преобразовать наш датасет(трейн и тест) следующим образом\n",
    "\n",
    "1. Бинаризуем все рейтинги(заменим любую интеракцию пользователя на 1)\n",
    "2. Заменим на 1 только рейтинги 4 и 5, а рейтинг ниже 4 заменим на 0\n",
    "3. Заменим на 1 только рейтинги 4 и 5, а рейтинг ниже 4 заменим на -1\n",
    "4. Заменим на 1 только рейтинги 4 и 5, а рейтинг ниже 4 заменим на -1 и добавим сглаживание по времени. То есть чем дальше была интеракция от максимальной даты трейна, тем с меньшим весом мы будем ее учитывать(например можно интеракции за последний месяц брать в исходном виде, и с каждым месяцем в прошлое умножать их на какой-нибудь коэффициент меньший 1). Таким образом более старые интеракции пользователя будут вносить меньший вклад в его интересы\n",
    "5. Придумайте свой вариант(опционально)\n",
    "\n",
    "Для каждой полученной матрицы обучите iALS и SVD и сравните их результаты между собой(преобразовывать нужно только обучающую выборку, тестовую оставляем неизменной)"
   ]
  },
  {
   "cell_type": "markdown",
   "id": "a0d99466",
   "metadata": {},
   "source": [
    "1. Бинаризуем все рейтинги(заменим любую интеракцию пользователя на 1)"
   ]
  },
  {
   "cell_type": "code",
   "execution_count": 31,
   "id": "c839fd09-eca4-43e0-a209-2da63775f79f",
   "metadata": {},
   "outputs": [],
   "source": [
    "df_train['rating_1'] = np.where(df_train.rating > 0, 1, 0)\n",
    "coo_array_1 = df_to_coo(df_train, 'rating_1')"
   ]
  },
  {
   "cell_type": "code",
   "execution_count": 32,
   "id": "ff69fae5",
   "metadata": {},
   "outputs": [
    {
     "name": "stdout",
     "output_type": "stream",
     "text": [
      "NDCG SVD =  0.5508152767051381\n"
     ]
    }
   ],
   "source": [
    "svd_recs = make_svd_recommendations(coo_array_1, n_singular_values=100)\n",
    "df_svd_recs = pd.DataFrame({\n",
    "    'user_id': range(len(svd_recs)),\n",
    "    'predicted_interactions': svd_recs.tolist()\n",
    "})\n",
    "df_evaluate_svd_recs = pd.merge(df_svd_recs, df_test_interactions, on='user_id')\n",
    "ndcg_metric_svd = evaluate_recommender(df_evaluate_svd_recs)\n",
    "print('NDCG SVD = ', ndcg_metric_svd)"
   ]
  },
  {
   "cell_type": "code",
   "execution_count": 33,
   "id": "37fc35d7",
   "metadata": {},
   "outputs": [
    {
     "name": "stderr",
     "output_type": "stream",
     "text": [
      "100%|██████████| 15/15 [00:02<00:00,  6.39it/s]\n"
     ]
    },
    {
     "name": "stdout",
     "output_type": "stream",
     "text": [
      "NDCG ALS =  0.5568542180546557\n"
     ]
    }
   ],
   "source": [
    "als_recs = make_als_recommendations(interactions=coo_array_1)\n",
    "\n",
    "df_als_recs = pd.DataFrame({\n",
    "    'user_id': range(len(als_recs)),\n",
    "    'predicted_interactions': als_recs.tolist()\n",
    "})\n",
    "df_evaluate_als_recs = pd.merge(df_als_recs, df_test_interactions, on='user_id')\n",
    "ndcg_metric_als = evaluate_recommender(df_evaluate_als_recs)\n",
    "print('NDCG ALS = ', ndcg_metric_als)"
   ]
  },
  {
   "cell_type": "markdown",
   "id": "333e40e3",
   "metadata": {},
   "source": [
    "2. Заменим на 1 только рейтинги 4 и 5, а рейтинг ниже 4 заменим на 0"
   ]
  },
  {
   "cell_type": "code",
   "execution_count": 34,
   "id": "9befe019",
   "metadata": {},
   "outputs": [],
   "source": [
    "df_train['rating_2'] = np.where(df_train.rating >= 4, 1, 0)\n",
    "coo_array_2 = df_to_coo(df_train, 'rating_2')"
   ]
  },
  {
   "cell_type": "code",
   "execution_count": 35,
   "id": "03d06c26",
   "metadata": {},
   "outputs": [
    {
     "name": "stdout",
     "output_type": "stream",
     "text": [
      "NDCG SVD =  0.5211253509556841\n"
     ]
    }
   ],
   "source": [
    "svd_recs = make_svd_recommendations(coo_array_2, n_singular_values=100)\n",
    "df_svd_recs = pd.DataFrame({\n",
    "    'user_id': range(len(svd_recs)),\n",
    "    'predicted_interactions': svd_recs.tolist()\n",
    "})\n",
    "df_evaluate_svd_recs = pd.merge(df_svd_recs, df_test_interactions, on='user_id')\n",
    "ndcg_metric_svd = evaluate_recommender(df_evaluate_svd_recs)\n",
    "print('NDCG SVD = ', ndcg_metric_svd)"
   ]
  },
  {
   "cell_type": "code",
   "execution_count": 36,
   "id": "85756ed8",
   "metadata": {},
   "outputs": [
    {
     "name": "stderr",
     "output_type": "stream",
     "text": [
      "100%|██████████| 15/15 [00:03<00:00,  4.45it/s]\n"
     ]
    },
    {
     "name": "stdout",
     "output_type": "stream",
     "text": [
      "NDCG ALS =  0.5594801572229002\n"
     ]
    }
   ],
   "source": [
    "als_recs = make_als_recommendations(interactions=coo_array_2)\n",
    "\n",
    "df_als_recs = pd.DataFrame({\n",
    "    'user_id': range(len(als_recs)),\n",
    "    'predicted_interactions': als_recs.tolist()\n",
    "})\n",
    "df_evaluate_als_recs = pd.merge(df_als_recs, df_test_interactions, on='user_id')\n",
    "ndcg_metric_als = evaluate_recommender(df_evaluate_als_recs)\n",
    "print('NDCG ALS = ', ndcg_metric_als)"
   ]
  },
  {
   "cell_type": "markdown",
   "id": "969b3fd5",
   "metadata": {},
   "source": [
    "3. Заменим на 1 только рейтинги 4 и 5, а рейтинг ниже 4 заменим на -1"
   ]
  },
  {
   "cell_type": "code",
   "execution_count": 37,
   "id": "54c6eb7b",
   "metadata": {},
   "outputs": [],
   "source": [
    "df_train['rating_3'] = np.where(df_train.rating >= 4, 1, -1)\n",
    "coo_array_3 = df_to_coo(df_train, 'rating_3')"
   ]
  },
  {
   "cell_type": "code",
   "execution_count": 38,
   "id": "8df1c2cf",
   "metadata": {},
   "outputs": [
    {
     "name": "stdout",
     "output_type": "stream",
     "text": [
      "NDCG SVD =  0.5342035557823889\n"
     ]
    }
   ],
   "source": [
    "svd_recs = make_svd_recommendations(coo_array_3, n_singular_values=100)\n",
    "df_svd_recs = pd.DataFrame({\n",
    "    'user_id': range(len(svd_recs)),\n",
    "    'predicted_interactions': svd_recs.tolist()\n",
    "})\n",
    "df_evaluate_svd_recs = pd.merge(df_svd_recs, df_test_interactions, on='user_id')\n",
    "ndcg_metric_svd = evaluate_recommender(df_evaluate_svd_recs)\n",
    "print('NDCG SVD = ', ndcg_metric_svd)"
   ]
  },
  {
   "cell_type": "code",
   "execution_count": 39,
   "id": "63b69139",
   "metadata": {},
   "outputs": [
    {
     "name": "stderr",
     "output_type": "stream",
     "text": [
      "100%|██████████| 15/15 [00:02<00:00,  6.64it/s]\n"
     ]
    },
    {
     "name": "stdout",
     "output_type": "stream",
     "text": [
      "NDCG ALS =  0.5591268627198924\n"
     ]
    }
   ],
   "source": [
    "als_recs = make_als_recommendations(interactions=coo_array_3)\n",
    "\n",
    "df_als_recs = pd.DataFrame({\n",
    "    'user_id': range(len(als_recs)),\n",
    "    'predicted_interactions': als_recs.tolist()\n",
    "})\n",
    "df_evaluate_als_recs = pd.merge(df_als_recs, df_test_interactions, on='user_id')\n",
    "ndcg_metric_als = evaluate_recommender(df_evaluate_als_recs)\n",
    "print('NDCG ALS = ', ndcg_metric_als)"
   ]
  },
  {
   "cell_type": "markdown",
   "id": "f94cc270",
   "metadata": {},
   "source": [
    "ALS показывает лучший результат"
   ]
  },
  {
   "cell_type": "markdown",
   "id": "ee7a03b1-5072-4bc4-ba46-1fc3c989b888",
   "metadata": {},
   "source": [
    "##### Задание 5. iALS на numpy/torch. Давайте реализуем алгоритм iALS на нумпае или торче. Требуется реализовать алгорит, описанный в 4 части [статьи](http://yifanhu.net/PUB/cf.pdf). Обратите внимания на все оптимизации, которые они описывают в статье, чтобы сократить лишние вычисления. Hint: метрики у вашего алгоритма должны быть сравнимы с метриками ALS из библиотеки implicit"
   ]
  },
  {
   "cell_type": "code",
   "execution_count": 40,
   "id": "e6be5f0d-1454-4f15-9dd1-17d1f1f99583",
   "metadata": {},
   "outputs": [
    {
     "ename": "IndentationError",
     "evalue": "expected an indented block after function definition on line 2 (2359162874.py, line 5)",
     "output_type": "error",
     "traceback": [
      "  \u001b[36mCell\u001b[39m\u001b[36m \u001b[39m\u001b[32mIn[40]\u001b[39m\u001b[32m, line 5\u001b[39m\n\u001b[31m    \u001b[39m\u001b[31mdef fit(self, interactions: np.ndarray, n_iterations: int 10):\u001b[39m\n    ^\n\u001b[31mIndentationError\u001b[39m\u001b[31m:\u001b[39m expected an indented block after function definition on line 2\n"
     ]
    }
   ],
   "source": [
    "class iALS:\n",
    "    def __init__(self, n_factors: int = 100, alpha: float = 1.0, reg_coef = 0.01):\n",
    "        #your code here\n",
    "\n",
    "    def fit(self, interactions: np.ndarray, n_iterations: int 10):\n",
    "        #your code here\n",
    "\n",
    "    def predict(self, top_k: int = 100):\n",
    "        # возвращает top-k айтемов для каждого юзера(айтемы с которыми юзер взаимодействовал не должны попасть в рекомендации)\n",
    "        #your code here\n",
    "\n",
    "        return predicts # shape ~ [n_users, top_k]"
   ]
  },
  {
   "cell_type": "code",
   "execution_count": null,
   "id": "a9aa65d7-11dc-48d9-a270-8d0a6d96f28e",
   "metadata": {},
   "outputs": [],
   "source": []
  }
 ],
 "metadata": {
  "kernelspec": {
   "display_name": ".venv",
   "language": "python",
   "name": "python3"
  },
  "language_info": {
   "codemirror_mode": {
    "name": "ipython",
    "version": 3
   },
   "file_extension": ".py",
   "mimetype": "text/x-python",
   "name": "python",
   "nbconvert_exporter": "python",
   "pygments_lexer": "ipython3",
   "version": "3.13.1"
  }
 },
 "nbformat": 4,
 "nbformat_minor": 5
}
